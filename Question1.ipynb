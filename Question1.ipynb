{
 "cells": [
  {
   "cell_type": "code",
   "execution_count": 2,
   "id": "03bf8c71",
   "metadata": {},
   "outputs": [
    {
     "name": "stdout",
     "output_type": "stream",
     "text": [
      "Length of the segment: 5.0\n",
      "Slope of the segment: 0.75\n"
     ]
    }
   ],
   "source": [
    "import math\n",
    "\n",
    "\n",
    "class Segment:\n",
    "    def __init__(self, p1=None, p2=None):\n",
    "        self.p1 = p1 if p1 else Point()  \n",
    "        self.p2 = p2 if p2 else Point()  \n",
    "    \n",
    "class Point:\n",
    "    def __init__(self, x=0, y=0):\n",
    "        self.x = x\n",
    "        self.y = y\n",
    "\n",
    "    def length(self):\n",
    "        # Calculate and return the length of the segment using the Euclidean distance formula\n",
    "        return math.sqrt((self.p2.x - self.p1.x)**2 + (self.p2.y - self.p1.y)**2)\n",
    "    \n",
    "    def slope(self):\n",
    "        \n",
    "        if self.p2.x - self.p1.x != 0:\n",
    "            return  (self.p2.x - self.p1.x)/(self.p2.y - self.p1.y)\n",
    "        else:\n",
    "            return None  \n",
    "\n",
    "\n",
    "# Example usage:\n",
    "p1 = Point(3, 4)      \n",
    "p2 = Point()          \n",
    "\n",
    "s = Segment(p1, p2)   \n",
    "\n",
    "# Print the length and slope of segment s\n",
    "print(\"Length of the segment:\", s.length())\n",
    "print(\"Slope of the segment:\", s.slope())\n"
   ]
  },
  {
   "cell_type": "code",
   "execution_count": null,
   "id": "41449689",
   "metadata": {},
   "outputs": [],
   "source": []
  },
  {
   "cell_type": "code",
   "execution_count": null,
   "id": "8b405d1b",
   "metadata": {},
   "outputs": [],
   "source": []
  },
  {
   "cell_type": "code",
   "execution_count": null,
   "id": "ff26c547",
   "metadata": {},
   "outputs": [],
   "source": []
  }
 ],
 "metadata": {
  "kernelspec": {
   "display_name": "Python 3 (ipykernel)",
   "language": "python",
   "name": "python3"
  },
  "language_info": {
   "codemirror_mode": {
    "name": "ipython",
    "version": 3
   },
   "file_extension": ".py",
   "mimetype": "text/x-python",
   "name": "python",
   "nbconvert_exporter": "python",
   "pygments_lexer": "ipython3",
   "version": "3.10.11"
  }
 },
 "nbformat": 4,
 "nbformat_minor": 5
}
