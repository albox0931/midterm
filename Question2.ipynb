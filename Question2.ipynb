{
 "cells": [
  {
   "cell_type": "code",
   "execution_count": 3,
   "id": "89d8f73f",
   "metadata": {},
   "outputs": [],
   "source": [
    "import sqlite3\n",
    "from datetime import date\n",
    "\n",
    "# New set of weather data for the example\n",
    "weather_entries = [\n",
    "    (1, '2015-01-01', 10),\n",
    "    (2, '2015-01-02', 25),\n",
    "    (3, '2015-01-03', 20),\n",
    "    (4, '2015-01-04', 30)\n",
    "]\n"
   ]
  },
  {
   "cell_type": "code",
   "execution_count": 11,
   "id": "88ff4a54",
   "metadata": {},
   "outputs": [],
   "source": [
    "# Function to create the database and insert the weather entries\n",
    "def create_database():\n",
    "    conn = sqlite3.connect('temp_data11.db')\n",
    "    cur = conn.cursor()\n",
    "\n",
    "    # Create the TemperatureRecords table\n",
    "    cur.execute('''\n",
    "        CREATE TABLE IF NOT EXISTS TemperatureRecords (\n",
    "            record_id INTEGER PRIMARY KEY,\n",
    "            date TEXT,\n",
    "            temperature INTEGER\n",
    "        )\n",
    "    ''')\n",
    "\n",
    "    # Insert the weather entries into the TemperatureRecords table\n",
    "    cur.executemany('''\n",
    "        INSERT INTO TemperatureRecords (record_id, date, temperature) \n",
    "        VALUES (?, ?, ?)\n",
    "    ''', weather_entries)\n",
    "\n",
    "    # Commit the transaction and close the connection\n",
    "    conn.commit()\n",
    "    conn.close()"
   ]
  },
  {
   "cell_type": "code",
   "execution_count": 12,
   "id": "2ad14e24",
   "metadata": {},
   "outputs": [],
   "source": [
    "# Function to fetch the days with higher temperatures\n",
    "def get_days_with_increase():\n",
    "    conn = sqlite3.connect('temp_data11.db')\n",
    "    cur = conn.cursor()\n",
    "\n",
    "    # Execute the SQL query\n",
    "    cur.execute(sql)\n",
    "\n",
    "    # Fetch all matching record IDs\n",
    "    increased_temp_days = cur.fetchall()\n",
    "\n",
    "    # Close the cursor and connection\n",
    "    cur.close()\n",
    "    conn.close()\n",
    "\n",
    "    return increased_temp_days\n"
   ]
  },
  {
   "cell_type": "code",
   "execution_count": 13,
   "id": "dae4b3a4",
   "metadata": {},
   "outputs": [],
   "source": [
    "# SQL query to find days with higher temperatures than the previous day\n",
    "sql = \"\"\"\n",
    "    SELECT current_day.record_id\n",
    "    FROM TemperatureRecords current_day\n",
    "    JOIN TemperatureRecords previous_day \n",
    "    ON DATE(current_day.date, '-1 day') = previous_day.date\n",
    "    WHERE current_day.temperature > previous_day.temperature\n",
    "\"\"\""
   ]
  },
  {
   "cell_type": "code",
   "execution_count": 14,
   "id": "f672190f",
   "metadata": {},
   "outputs": [
    {
     "name": "stdout",
     "output_type": "stream",
     "text": [
      "Days with higher temperatures than the previous day (record IDs): [(2,), (4,)]\n"
     ]
    }
   ],
   "source": [
    "# Create the database and retrieve the days with increased temperatures\n",
    "create_database()\n",
    "days_with_higher_temps = get_days_with_increase()\n",
    "\n",
    "# Print the days with higher temperatures\n",
    "print(\"Days with higher temperatures than the previous day (record IDs):\", days_with_higher_temps)\n"
   ]
  }
 ],
 "metadata": {
  "kernelspec": {
   "display_name": "Python 3 (ipykernel)",
   "language": "python",
   "name": "python3"
  },
  "language_info": {
   "codemirror_mode": {
    "name": "ipython",
    "version": 3
   },
   "file_extension": ".py",
   "mimetype": "text/x-python",
   "name": "python",
   "nbconvert_exporter": "python",
   "pygments_lexer": "ipython3",
   "version": "3.11.5"
  }
 },
 "nbformat": 4,
 "nbformat_minor": 5
}
