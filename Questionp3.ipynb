{
 "cells": [
  {
   "cell_type": "code",
   "execution_count": 2,
   "id": "5f76eba5",
   "metadata": {},
   "outputs": [
    {
     "name": "stdout",
     "output_type": "stream",
     "text": [
      "f(0, 0):\n",
      "\n",
      "f(0, 1):\n",
      "*\n",
      "\n",
      "f(0, 2):\n",
      "*\n",
      "**\n",
      " *\n",
      "\n",
      "f(0, 4):\n",
      "*\n",
      "**\n",
      " *\n",
      "****\n",
      "  *\n",
      "  **\n",
      "   *\n"
     ]
    }
   ],
   "source": [
    "def tough(indentation, stars):\n",
    "    if stars == 0:\n",
    "        return\n",
    "    elif stars == 1:\n",
    "        print(' ' * indentation + '*')\n",
    "    else:\n",
    "       \n",
    "        print(' ' * indentation + '*')\n",
    "        if stars > 1:\n",
    "            print(' ' * indentation + '**')\n",
    "            print(' ' * (indentation + 1) + '*')\n",
    "\n",
    "        if stars > 2:\n",
    "            print(' ' * indentation + '*' * stars)\n",
    "\n",
    "        \n",
    "        if stars > 2:\n",
    "            tough(indentation + 2, stars - 2)\n",
    "\n",
    "\n",
    "print(\"f(0, 0):\")\n",
    "tough(0, 0)\n",
    "print(\"\\nf(0, 1):\")\n",
    "tough(0, 1)\n",
    "print(\"\\nf(0, 2):\")\n",
    "tough(0, 2)\n",
    "print(\"\\nf(0, 4):\")\n",
    "tough(0, 4)\n"
   ]
  }
 ],
 "metadata": {
  "kernelspec": {
   "display_name": "Python 3 (ipykernel)",
   "language": "python",
   "name": "python3"
  },
  "language_info": {
   "codemirror_mode": {
    "name": "ipython",
    "version": 3
   },
   "file_extension": ".py",
   "mimetype": "text/x-python",
   "name": "python",
   "nbconvert_exporter": "python",
   "pygments_lexer": "ipython3",
   "version": "3.10.11"
  }
 },
 "nbformat": 4,
 "nbformat_minor": 5
}
